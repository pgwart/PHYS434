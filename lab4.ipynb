{
 "cells": [
  {
   "cell_type": "code",
   "execution_count": 3,
   "id": "9be81ef0-e1be-430b-8799-081b61ca0a21",
   "metadata": {},
   "outputs": [
    {
     "ename": "ImportError",
     "evalue": "DLL load failed while importing defs: The specified procedure could not be found.",
     "output_type": "error",
     "traceback": [
      "\u001b[1;31m---------------------------------------------------------------------------\u001b[0m",
      "\u001b[1;31mImportError\u001b[0m                               Traceback (most recent call last)",
      "\u001b[1;32m<ipython-input-3-c5c60afd8065>\u001b[0m in \u001b[0;36m<module>\u001b[1;34m\u001b[0m\n\u001b[0;32m      5\u001b[0m \u001b[1;32mimport\u001b[0m \u001b[0mscipy\u001b[0m\u001b[1;33m\u001b[0m\u001b[1;33m\u001b[0m\u001b[0m\n\u001b[0;32m      6\u001b[0m \u001b[1;32mfrom\u001b[0m \u001b[0mscipy\u001b[0m \u001b[1;32mimport\u001b[0m \u001b[0mstats\u001b[0m\u001b[1;33m\u001b[0m\u001b[1;33m\u001b[0m\u001b[0m\n\u001b[1;32m----> 7\u001b[1;33m \u001b[1;32mimport\u001b[0m \u001b[0mh5py\u001b[0m\u001b[1;33m\u001b[0m\u001b[1;33m\u001b[0m\u001b[0m\n\u001b[0m\u001b[0;32m      8\u001b[0m \u001b[1;33m\u001b[0m\u001b[0m\n\u001b[0;32m      9\u001b[0m \u001b[0mplt\u001b[0m\u001b[1;33m.\u001b[0m\u001b[0mrcParams\u001b[0m\u001b[1;33m[\u001b[0m\u001b[1;34m\"figure.figsize\"\u001b[0m\u001b[1;33m]\u001b[0m \u001b[1;33m=\u001b[0m \u001b[1;33m(\u001b[0m\u001b[1;36m10\u001b[0m\u001b[1;33m,\u001b[0m\u001b[1;36m8\u001b[0m\u001b[1;33m)\u001b[0m\u001b[1;33m\u001b[0m\u001b[1;33m\u001b[0m\u001b[0m\n",
      "\u001b[1;32m~\\anaconda3\\lib\\site-packages\\h5py\\__init__.py\u001b[0m in \u001b[0;36m<module>\u001b[1;34m\u001b[0m\n\u001b[0;32m     31\u001b[0m         \u001b[1;32mraise\u001b[0m\u001b[1;33m\u001b[0m\u001b[1;33m\u001b[0m\u001b[0m\n\u001b[0;32m     32\u001b[0m \u001b[1;33m\u001b[0m\u001b[0m\n\u001b[1;32m---> 33\u001b[1;33m \u001b[1;32mfrom\u001b[0m \u001b[1;33m.\u001b[0m \u001b[1;32mimport\u001b[0m \u001b[0mversion\u001b[0m\u001b[1;33m\u001b[0m\u001b[1;33m\u001b[0m\u001b[0m\n\u001b[0m\u001b[0;32m     34\u001b[0m \u001b[1;33m\u001b[0m\u001b[0m\n\u001b[0;32m     35\u001b[0m \u001b[1;32mif\u001b[0m \u001b[0mversion\u001b[0m\u001b[1;33m.\u001b[0m\u001b[0mhdf5_version_tuple\u001b[0m \u001b[1;33m!=\u001b[0m \u001b[0mversion\u001b[0m\u001b[1;33m.\u001b[0m\u001b[0mhdf5_built_version_tuple\u001b[0m\u001b[1;33m:\u001b[0m\u001b[1;33m\u001b[0m\u001b[1;33m\u001b[0m\u001b[0m\n",
      "\u001b[1;32m~\\anaconda3\\lib\\site-packages\\h5py\\version.py\u001b[0m in \u001b[0;36m<module>\u001b[1;34m\u001b[0m\n\u001b[0;32m     13\u001b[0m \u001b[1;33m\u001b[0m\u001b[0m\n\u001b[0;32m     14\u001b[0m \u001b[1;32mfrom\u001b[0m \u001b[0mcollections\u001b[0m \u001b[1;32mimport\u001b[0m \u001b[0mnamedtuple\u001b[0m\u001b[1;33m\u001b[0m\u001b[1;33m\u001b[0m\u001b[0m\n\u001b[1;32m---> 15\u001b[1;33m \u001b[1;32mfrom\u001b[0m \u001b[1;33m.\u001b[0m \u001b[1;32mimport\u001b[0m \u001b[0mh5\u001b[0m \u001b[1;32mas\u001b[0m \u001b[0m_h5\u001b[0m\u001b[1;33m\u001b[0m\u001b[1;33m\u001b[0m\u001b[0m\n\u001b[0m\u001b[0;32m     16\u001b[0m \u001b[1;32mimport\u001b[0m \u001b[0msys\u001b[0m\u001b[1;33m\u001b[0m\u001b[1;33m\u001b[0m\u001b[0m\n\u001b[0;32m     17\u001b[0m \u001b[1;32mimport\u001b[0m \u001b[0mnumpy\u001b[0m\u001b[1;33m\u001b[0m\u001b[1;33m\u001b[0m\u001b[0m\n",
      "\u001b[1;32mh5py\\h5.pyx\u001b[0m in \u001b[0;36minit h5py.h5\u001b[1;34m()\u001b[0m\n",
      "\u001b[1;31mImportError\u001b[0m: DLL load failed while importing defs: The specified procedure could not be found."
     ]
    }
   ],
   "source": [
    "%matplotlib inline\n",
    "import numpy as np\n",
    "import matplotlib\n",
    "import matplotlib.pyplot as plt\n",
    "import scipy\n",
    "from scipy import stats\n",
    "import h5py\n",
    "\n",
    "plt.rcParams[\"figure.figsize\"] = (10,8)"
   ]
  },
  {
   "cell_type": "code",
   "execution_count": null,
   "id": "43d375bb-9a78-489f-9d5f-d3c894451d29",
   "metadata": {},
   "outputs": [],
   "source": [
    "hf = h5py.File('gammaray_lab4.h5', 'r')"
   ]
  },
  {
   "cell_type": "code",
   "execution_count": null,
   "id": "4cc91e00-63b3-4966-8c85-100592a7c790",
   "metadata": {},
   "outputs": [],
   "source": [
    "hf.keys()"
   ]
  },
  {
   "cell_type": "code",
   "execution_count": null,
   "id": "ad11c14e-aa2c-4576-86f0-f9485989306c",
   "metadata": {},
   "outputs": [],
   "source": [
    "data = np.array(hf.get('data'))"
   ]
  },
  {
   "cell_type": "code",
   "execution_count": null,
   "id": "2fd71518-a129-4f90-a5f4-de821cd14705",
   "metadata": {},
   "outputs": [],
   "source": [
    "data[:,0]"
   ]
  },
  {
   "cell_type": "code",
   "execution_count": null,
   "id": "eed65418-75c3-462a-9fe1-c88f25dcd9a0",
   "metadata": {},
   "outputs": [],
   "source": [
    "hf.close()"
   ]
  },
  {
   "cell_type": "markdown",
   "id": "63afd406-cf70-4fa4-b3d0-656539dcbc6f",
   "metadata": {},
   "source": [
    "### Problem 1.\n",
    "#### 1)"
   ]
  },
  {
   "cell_type": "code",
   "execution_count": null,
   "id": "996dff2e-9771-430b-8a57-30fc71cedfc0",
   "metadata": {},
   "outputs": [],
   "source": [
    "hf = h5py.File('gammaray_lab4.h5', 'r')\n",
    "data = np.array(hf.get('data'))"
   ]
  },
  {
   "cell_type": "code",
   "execution_count": null,
   "id": "d0d52fb2-e958-4e33-be06-a82d49dde345",
   "metadata": {},
   "outputs": [],
   "source": [
    "fig, ax = plt.subplots(1,4, figsize=(20,5))\n",
    "ax[0].scatter(data[0,:], data[3,:])\n",
    "ax[0].set_title('N=1')\n",
    "ax[1].scatter(data[0,::100], data[3,::100])\n",
    "ax[1].set_title('N=100')\n",
    "ax[2].scatter(data[0,::10000], data[3,::10000])\n",
    "ax[0].set_title('N=10000')\n",
    "ax[3].scatter(data[0,::100000], data[3,::100000])\n",
    "ax[0].set_title('N=100000')\n",
    "plt.suptitle('Counts vs time, plotting 1/N points')\n",
    "plt.show()"
   ]
  },
  {
   "cell_type": "markdown",
   "id": "1f0cdfde-455f-426f-b927-a922069ef51d",
   "metadata": {},
   "source": [
    "Plotting all of the points fills the plot and makes it impossible to see any features. When plotting only some of the data points, it does look like there is some kind of periodic variability in the background. There doesn't appear to be any data contamination, as there aren't any counts beyond ~30, so there aren't any extreme outliers."
   ]
  },
  {
   "cell_type": "code",
   "execution_count": null,
   "id": "0157a65f-4e66-4796-8fbe-c4b36a09302f",
   "metadata": {},
   "outputs": [],
   "source": [
    "plt.scatter(data[0,:500000:2000], data[3,:500000:2000])\n",
    "plt.plot(data[0,:500000], np.sin(data[1,:500000]*2*np.pi/360)*5 + np.mean(data[3,:]), c='r', label='Solar phase')\n",
    "plt.plot(data[0,:500000], np.sin(data[2,:500000]*2*np.pi/360)*5 + np.mean(data[3,:]), c='g', linestyle='--', label='Earth longitude')\n",
    "plt.legend()\n",
    "plt.show()"
   ]
  },
  {
   "cell_type": "markdown",
   "id": "1aeae495-6e2c-4255-b7e5-cc9aa37af618",
   "metadata": {},
   "source": [
    "The solar phase and Earth longitude both appear to have a regular period, but they don't have the same period and phase. It's hard to tell from this plot which, if either, is the contributing factor for the variability of the distribution."
   ]
  },
  {
   "cell_type": "code",
   "execution_count": null,
   "id": "8b7a276a-a639-4bb8-882e-157803016e34",
   "metadata": {},
   "outputs": [],
   "source": [
    "h, bins, patches = plt.hist(data[3,:], density=True, bins=30)\n",
    "mu = np.mean(data[3,:])\n",
    "x = np.arange(0,30)\n",
    "plt.stairs(stats.poisson.pmf(x,mu), color='r', label='Poisson distribution')\n",
    "plt.title('Background distribution compared with a Poisson distribution of the same mean')\n",
    "plt.ylabel('Probability')\n",
    "plt.xlabel('Counts')\n",
    "plt.legend()\n",
    "plt.show()\n"
   ]
  },
  {
   "cell_type": "markdown",
   "id": "6c76d39b-91c2-4dea-9d67-9f96fe2cec42",
   "metadata": {},
   "source": [
    "The distribution is close to, but not quite, a Poisson distribution with a mean equal to the mean of the counts."
   ]
  },
  {
   "cell_type": "markdown",
   "id": "b683191e-b59c-4fb6-8749-6a86712eab4d",
   "metadata": {},
   "source": [
    "#### 2)"
   ]
  },
  {
   "cell_type": "code",
   "execution_count": null,
   "id": "98453c2d-5c4e-46f3-a073-3bf669a11e6f",
   "metadata": {},
   "outputs": [],
   "source": [
    "fig, ax = plt.subplots(1,2, figsize=(10,5), sharey=True)\n",
    "ax[0].hist2d(data[1,:], data[3,:])\n",
    "ax[1].hist2d(data[2,:], data[3,:])\n",
    "ax[0].set_ylabel('Counts')\n",
    "ax[0].set_xlabel('Solar phase (degrees)')\n",
    "ax[1].set_xlabel('Earth longitude (degrees)')\n",
    "plt.suptitle('Counts as a function of position')\n",
    "plt.tight_layout()\n",
    "plt.show()"
   ]
  },
  {
   "cell_type": "markdown",
   "id": "0608e5b9-2f79-450a-97c0-f0f47345674b",
   "metadata": {},
   "source": [
    "Here, it's much more clear how the background distribution changes with time. Solar phase does not seem to have any impact on counts, but Earth longitude does. As the background changes with the angle, this means the mean of the Poisson distribution changes with the angle as well."
   ]
  },
  {
   "cell_type": "markdown",
   "id": "5fc04ef3-8b89-4fbf-881d-2987de325bde",
   "metadata": {},
   "source": [
    "#### 3)"
   ]
  },
  {
   "cell_type": "code",
   "execution_count": null,
   "id": "5dd1f95c-f1d6-4c49-be32-de2f053d33dc",
   "metadata": {},
   "outputs": [],
   "source": []
  },
  {
   "cell_type": "markdown",
   "id": "8162db74-9617-422d-a613-277e5bbaa9a9",
   "metadata": {},
   "source": [
    "After shifting the phase of the counts vs longitude plot, we can see that a function that roughly matches the mean of the distribution as a function of angle is an exponential function in the form $f(\\theta) = Ae^{-k\\theta}$."
   ]
  },
  {
   "cell_type": "markdown",
   "id": "eafb264c-a407-4325-8b49-945e5d46c153",
   "metadata": {},
   "source": [
    "#### 4)"
   ]
  },
  {
   "cell_type": "markdown",
   "id": "1057c2fb-a5c2-4460-a6ad-6b18adfeaefd",
   "metadata": {},
   "source": [
    "### Problem 2."
   ]
  },
  {
   "cell_type": "code",
   "execution_count": null,
   "id": "84f9d0bb-cf70-45c0-a04e-f2f229de995c",
   "metadata": {},
   "outputs": [],
   "source": [
    "hf = h5py.File('images.h5', 'r')\n",
    "stars = np.array(hf.get('data'))\n",
    "stars"
   ]
  }
 ],
 "metadata": {
  "kernelspec": {
   "display_name": "Python 3",
   "language": "python",
   "name": "python3"
  },
  "language_info": {
   "codemirror_mode": {
    "name": "ipython",
    "version": 3
   },
   "file_extension": ".py",
   "mimetype": "text/x-python",
   "name": "python",
   "nbconvert_exporter": "python",
   "pygments_lexer": "ipython3",
   "version": "3.8.8"
  }
 },
 "nbformat": 4,
 "nbformat_minor": 5
}
