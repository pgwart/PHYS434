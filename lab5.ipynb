{
 "cells": [
  {
   "cell_type": "code",
   "execution_count": 108,
   "id": "c0bda6d5-ef49-48ab-9fb7-9c6ed0992048",
   "metadata": {},
   "outputs": [],
   "source": [
    "import pickle\n",
    "import numpy as np\n",
    "import matplotlib.pyplot as plt\n",
    "import pandas as pd\n",
    "from scipy.stats import poisson, norm"
   ]
  },
  {
   "cell_type": "markdown",
   "id": "a81fc2a9-82ec-493c-af4f-c3d28b3e1547",
   "metadata": {},
   "source": []
  },
  {
   "cell_type": "code",
   "execution_count": 2,
   "id": "d5992c86-028f-48d6-857a-7f7445b41ed6",
   "metadata": {},
   "outputs": [],
   "source": [
    "infile = open(\"qcd_100000_pt_1000_1200.pkl\",'rb')\n",
    "bkg = pickle.load(infile)\n",
    "infile = open(\"higgs_100000_pt_1000_1200.pkl\",'rb')\n",
    "signal = pickle.load(infile)"
   ]
  },
  {
   "cell_type": "code",
   "execution_count": 7,
   "id": "828858e7-7ee2-4cdb-b156-8fbff32f003d",
   "metadata": {},
   "outputs": [
    {
     "data": {
      "text/html": [
       "<div>\n",
       "<style scoped>\n",
       "    .dataframe tbody tr th:only-of-type {\n",
       "        vertical-align: middle;\n",
       "    }\n",
       "\n",
       "    .dataframe tbody tr th {\n",
       "        vertical-align: top;\n",
       "    }\n",
       "\n",
       "    .dataframe thead th {\n",
       "        text-align: right;\n",
       "    }\n",
       "</style>\n",
       "<table border=\"1\" class=\"dataframe\">\n",
       "  <thead>\n",
       "    <tr style=\"text-align: right;\">\n",
       "      <th></th>\n",
       "      <th>pt</th>\n",
       "      <th>eta</th>\n",
       "      <th>phi</th>\n",
       "      <th>mass</th>\n",
       "      <th>ee2</th>\n",
       "      <th>ee3</th>\n",
       "      <th>d2</th>\n",
       "      <th>angularity</th>\n",
       "      <th>t1</th>\n",
       "      <th>t2</th>\n",
       "      <th>t3</th>\n",
       "      <th>t21</th>\n",
       "      <th>t32</th>\n",
       "      <th>KtDeltaR</th>\n",
       "    </tr>\n",
       "  </thead>\n",
       "  <tbody>\n",
       "    <tr>\n",
       "      <th>0</th>\n",
       "      <td>1034.181543</td>\n",
       "      <td>1.193191</td>\n",
       "      <td>2.942234</td>\n",
       "      <td>272.010881</td>\n",
       "      <td>0.102485</td>\n",
       "      <td>0.003492</td>\n",
       "      <td>3.244343</td>\n",
       "      <td>0.006256</td>\n",
       "      <td>0.961697</td>\n",
       "      <td>0.598986</td>\n",
       "      <td>0.425024</td>\n",
       "      <td>0.622843</td>\n",
       "      <td>0.709573</td>\n",
       "      <td>0.082995</td>\n",
       "    </tr>\n",
       "    <tr>\n",
       "      <th>1</th>\n",
       "      <td>1125.535509</td>\n",
       "      <td>-1.833090</td>\n",
       "      <td>0.121390</td>\n",
       "      <td>139.794408</td>\n",
       "      <td>0.035430</td>\n",
       "      <td>0.000288</td>\n",
       "      <td>6.481473</td>\n",
       "      <td>0.000155</td>\n",
       "      <td>0.896003</td>\n",
       "      <td>0.633385</td>\n",
       "      <td>0.476566</td>\n",
       "      <td>0.706900</td>\n",
       "      <td>0.752412</td>\n",
       "      <td>0.439346</td>\n",
       "    </tr>\n",
       "    <tr>\n",
       "      <th>2</th>\n",
       "      <td>1099.223087</td>\n",
       "      <td>0.557867</td>\n",
       "      <td>-1.238027</td>\n",
       "      <td>245.413146</td>\n",
       "      <td>0.099080</td>\n",
       "      <td>0.002563</td>\n",
       "      <td>2.634788</td>\n",
       "      <td>0.005682</td>\n",
       "      <td>0.861678</td>\n",
       "      <td>0.486505</td>\n",
       "      <td>0.264631</td>\n",
       "      <td>0.564602</td>\n",
       "      <td>0.543942</td>\n",
       "      <td>0.251453</td>\n",
       "    </tr>\n",
       "    <tr>\n",
       "      <th>3</th>\n",
       "      <td>1118.230032</td>\n",
       "      <td>1.505473</td>\n",
       "      <td>1.953123</td>\n",
       "      <td>89.975916</td>\n",
       "      <td>0.017950</td>\n",
       "      <td>0.000077</td>\n",
       "      <td>13.389845</td>\n",
       "      <td>0.000432</td>\n",
       "      <td>0.952917</td>\n",
       "      <td>0.856141</td>\n",
       "      <td>0.730438</td>\n",
       "      <td>0.898442</td>\n",
       "      <td>0.853175</td>\n",
       "      <td>0.121666</td>\n",
       "    </tr>\n",
       "    <tr>\n",
       "      <th>4</th>\n",
       "      <td>1059.907996</td>\n",
       "      <td>-0.387179</td>\n",
       "      <td>-1.064832</td>\n",
       "      <td>85.893956</td>\n",
       "      <td>0.018515</td>\n",
       "      <td>0.000072</td>\n",
       "      <td>11.342156</td>\n",
       "      <td>0.002575</td>\n",
       "      <td>0.868770</td>\n",
       "      <td>0.645362</td>\n",
       "      <td>0.484853</td>\n",
       "      <td>0.742845</td>\n",
       "      <td>0.751289</td>\n",
       "      <td>0.386788</td>\n",
       "    </tr>\n",
       "  </tbody>\n",
       "</table>\n",
       "</div>"
      ],
      "text/plain": [
       "            pt       eta       phi        mass       ee2       ee3         d2  \\\n",
       "0  1034.181543  1.193191  2.942234  272.010881  0.102485  0.003492   3.244343   \n",
       "1  1125.535509 -1.833090  0.121390  139.794408  0.035430  0.000288   6.481473   \n",
       "2  1099.223087  0.557867 -1.238027  245.413146  0.099080  0.002563   2.634788   \n",
       "3  1118.230032  1.505473  1.953123   89.975916  0.017950  0.000077  13.389845   \n",
       "4  1059.907996 -0.387179 -1.064832   85.893956  0.018515  0.000072  11.342156   \n",
       "\n",
       "   angularity        t1        t2        t3       t21       t32  KtDeltaR  \n",
       "0    0.006256  0.961697  0.598986  0.425024  0.622843  0.709573  0.082995  \n",
       "1    0.000155  0.896003  0.633385  0.476566  0.706900  0.752412  0.439346  \n",
       "2    0.005682  0.861678  0.486505  0.264631  0.564602  0.543942  0.251453  \n",
       "3    0.000432  0.952917  0.856141  0.730438  0.898442  0.853175  0.121666  \n",
       "4    0.002575  0.868770  0.645362  0.484853  0.742845  0.751289  0.386788  "
      ]
     },
     "execution_count": 7,
     "metadata": {},
     "output_type": "execute_result"
    }
   ],
   "source": [
    "bkg.head()"
   ]
  },
  {
   "cell_type": "code",
   "execution_count": 80,
   "id": "75b1224e-70a6-4a4e-818b-f7fe20182ec0",
   "metadata": {},
   "outputs": [
    {
     "data": {
      "text/html": [
       "<div>\n",
       "<style scoped>\n",
       "    .dataframe tbody tr th:only-of-type {\n",
       "        vertical-align: middle;\n",
       "    }\n",
       "\n",
       "    .dataframe tbody tr th {\n",
       "        vertical-align: top;\n",
       "    }\n",
       "\n",
       "    .dataframe thead th {\n",
       "        text-align: right;\n",
       "    }\n",
       "</style>\n",
       "<table border=\"1\" class=\"dataframe\">\n",
       "  <thead>\n",
       "    <tr style=\"text-align: right;\">\n",
       "      <th></th>\n",
       "      <th>pt</th>\n",
       "      <th>eta</th>\n",
       "      <th>phi</th>\n",
       "      <th>mass</th>\n",
       "      <th>ee2</th>\n",
       "      <th>ee3</th>\n",
       "      <th>d2</th>\n",
       "      <th>angularity</th>\n",
       "      <th>t1</th>\n",
       "      <th>t2</th>\n",
       "      <th>t3</th>\n",
       "      <th>t21</th>\n",
       "      <th>t32</th>\n",
       "      <th>KtDeltaR</th>\n",
       "    </tr>\n",
       "  </thead>\n",
       "  <tbody>\n",
       "    <tr>\n",
       "      <th>0</th>\n",
       "      <td>1130.533498</td>\n",
       "      <td>0.075569</td>\n",
       "      <td>-2.535979</td>\n",
       "      <td>126.390705</td>\n",
       "      <td>0.050194</td>\n",
       "      <td>0.000198</td>\n",
       "      <td>1.565921</td>\n",
       "      <td>0.000846</td>\n",
       "      <td>0.710011</td>\n",
       "      <td>0.318588</td>\n",
       "      <td>0.201156</td>\n",
       "      <td>0.448709</td>\n",
       "      <td>0.631396</td>\n",
       "      <td>0.236212</td>\n",
       "    </tr>\n",
       "    <tr>\n",
       "      <th>1</th>\n",
       "      <td>1040.287356</td>\n",
       "      <td>-0.917809</td>\n",
       "      <td>-0.511002</td>\n",
       "      <td>125.735472</td>\n",
       "      <td>0.068068</td>\n",
       "      <td>0.000259</td>\n",
       "      <td>0.822408</td>\n",
       "      <td>0.000093</td>\n",
       "      <td>1.070693</td>\n",
       "      <td>0.243505</td>\n",
       "      <td>0.149150</td>\n",
       "      <td>0.227427</td>\n",
       "      <td>0.612512</td>\n",
       "      <td>0.223529</td>\n",
       "    </tr>\n",
       "    <tr>\n",
       "      <th>2</th>\n",
       "      <td>1042.978241</td>\n",
       "      <td>0.431547</td>\n",
       "      <td>-1.287136</td>\n",
       "      <td>125.946948</td>\n",
       "      <td>0.054627</td>\n",
       "      <td>0.000189</td>\n",
       "      <td>1.159519</td>\n",
       "      <td>0.000493</td>\n",
       "      <td>0.707240</td>\n",
       "      <td>0.196842</td>\n",
       "      <td>0.161801</td>\n",
       "      <td>0.278324</td>\n",
       "      <td>0.821986</td>\n",
       "      <td>0.284253</td>\n",
       "    </tr>\n",
       "    <tr>\n",
       "      <th>3</th>\n",
       "      <td>1173.988224</td>\n",
       "      <td>-1.000457</td>\n",
       "      <td>-0.567291</td>\n",
       "      <td>133.475055</td>\n",
       "      <td>0.057164</td>\n",
       "      <td>0.000211</td>\n",
       "      <td>1.131290</td>\n",
       "      <td>0.000316</td>\n",
       "      <td>1.586268</td>\n",
       "      <td>0.213899</td>\n",
       "      <td>0.137810</td>\n",
       "      <td>0.134844</td>\n",
       "      <td>0.644277</td>\n",
       "      <td>0.216328</td>\n",
       "    </tr>\n",
       "    <tr>\n",
       "      <th>4</th>\n",
       "      <td>1158.143085</td>\n",
       "      <td>-0.205305</td>\n",
       "      <td>2.778395</td>\n",
       "      <td>135.047319</td>\n",
       "      <td>0.028222</td>\n",
       "      <td>0.000114</td>\n",
       "      <td>5.084335</td>\n",
       "      <td>0.004804</td>\n",
       "      <td>0.644669</td>\n",
       "      <td>0.259307</td>\n",
       "      <td>0.242958</td>\n",
       "      <td>0.402232</td>\n",
       "      <td>0.936954</td>\n",
       "      <td>0.443097</td>\n",
       "    </tr>\n",
       "  </tbody>\n",
       "</table>\n",
       "</div>"
      ],
      "text/plain": [
       "            pt       eta       phi        mass       ee2       ee3        d2  \\\n",
       "0  1130.533498  0.075569 -2.535979  126.390705  0.050194  0.000198  1.565921   \n",
       "1  1040.287356 -0.917809 -0.511002  125.735472  0.068068  0.000259  0.822408   \n",
       "2  1042.978241  0.431547 -1.287136  125.946948  0.054627  0.000189  1.159519   \n",
       "3  1173.988224 -1.000457 -0.567291  133.475055  0.057164  0.000211  1.131290   \n",
       "4  1158.143085 -0.205305  2.778395  135.047319  0.028222  0.000114  5.084335   \n",
       "\n",
       "   angularity        t1        t2        t3       t21       t32  KtDeltaR  \n",
       "0    0.000846  0.710011  0.318588  0.201156  0.448709  0.631396  0.236212  \n",
       "1    0.000093  1.070693  0.243505  0.149150  0.227427  0.612512  0.223529  \n",
       "2    0.000493  0.707240  0.196842  0.161801  0.278324  0.821986  0.284253  \n",
       "3    0.000316  1.586268  0.213899  0.137810  0.134844  0.644277  0.216328  \n",
       "4    0.004804  0.644669  0.259307  0.242958  0.402232  0.936954  0.443097  "
      ]
     },
     "execution_count": 80,
     "metadata": {},
     "output_type": "execute_result"
    }
   ],
   "source": [
    "signal.head()"
   ]
  },
  {
   "cell_type": "markdown",
   "id": "bc57df92-80ad-4374-bfda-67d5f41b5bf4",
   "metadata": {},
   "source": [
    "\n",
    "##### 1)\n",
    "According to the documentation, for the high pT range, we expect the number of background events to be $N_{qcd} = 2000$ and the number of signal events to be $N_{higgs} = 50$. This means our background should be a Poisson distribution with a mean of 2000, and the significance will be calculated as a count of $N_{qcd}+N_{higgs} = 2050$ events."
   ]
  },
  {
   "cell_type": "code",
   "execution_count": 104,
   "id": "9e28b915-baef-46d9-b4ca-aa309e42de88",
   "metadata": {},
   "outputs": [
    {
     "data": {
      "image/png": "[encoded data removed]",
      "text/plain": [
       "<Figure size 864x576 with 1 Axes>"
      ]
     },
     "metadata": {
      "needs_background": "light"
     },
     "output_type": "display_data"
    }
   ],
   "source": [
    "mu = 2000\n",
    "x = np.arange(poisson.ppf(0.001, mu),\n",
    "              poisson.ppf(0.999, mu))\n",
    "fig,ax=plt.subplots(figsize=(12,8))\n",
    "plt.stairs(poisson.pmf(x, mu)[:-1],x)\n",
    "plt.title('Expected background distribution (Nqcd = 2000)')\n",
    "plt.xlabel('Events')\n",
    "plt.ylabel('Probability')\n",
    "plt.show()"
   ]
  },
  {
   "cell_type": "code",
   "execution_count": 113,
   "id": "7f2d11dc-4012-4059-b854-e141530ad4bd",
   "metadata": {},
   "outputs": [
    {
     "name": "stdout",
     "output_type": "stream",
     "text": [
      "The probability of finding 2050 events in the background is 0.130, which is a signficants of 1.128.\n"
     ]
    }
   ],
   "source": [
    "p = poisson.sf(2050,mu)\n",
    "sig = abs(norm.ppf(p))\n",
    "print(f'The probability of finding 2050 events in the background is {p:0.3f}, which is a signficants of {sig:0.3f}.')"
   ]
  },
  {
   "cell_type": "markdown",
   "id": "25df7591-6a67-4a49-89b3-f1a338a3671e",
   "metadata": {},
   "source": [
    "The significance for this signal is only $1.128\\sigma$, which is extremely far below the $5\\sigma$ discovery threshold."
   ]
  },
  {
   "cell_type": "code",
   "execution_count": 68,
   "id": "ff67438d-5b89-42a2-b533-eadca4e744fc",
   "metadata": {},
   "outputs": [
    {
     "data": {
      "image/png": "[encoded data removed]",
      "text/plain": [
       "<Figure size 1440x576 with 2 Axes>"
      ]
     },
     "metadata": {
      "needs_background": "light"
     },
     "output_type": "display_data"
    }
   ],
   "source": [
    "fig, ax = plt.subplots(1,2, figsize=(20,8),sharey=True)\n",
    "ax[0].hist2d(bkg['pt'], bkg['mass'], bins=50)\n",
    "ax[1].hist2d(signal['pt'], signal['mass'], bins=50)\n",
    "\n",
    "plt.show()"
   ]
  },
  {
   "cell_type": "code",
   "execution_count": 138,
   "id": "da588a77-499e-46f7-a0a1-d8e5b0b602c5",
   "metadata": {},
   "outputs": [
    {
     "data": {
      "text/plain": [
       "312.875"
      ]
     },
     "execution_count": 138,
     "metadata": {},
     "output_type": "execute_result"
    }
   ],
   "source": [
    "cut_bkg = bkg[(bkg['mass']>120) &  (bkg['mass'] < 140)]\n",
    "cut_signal = signal[(signal['mass']>120) &  (signal['mass'] < 140)]\n",
    "len(cut_bkg), len(cut_signal)\n",
    "n_bkg = len(cut_bkg)\n",
    "\n",
    "n_signal = 50/2000 * n_bkg"
   ]
  },
  {
   "cell_type": "code",
   "execution_count": 146,
   "id": "f095a1d6-4f23-49ba-8a66-786ac2511294",
   "metadata": {},
   "outputs": [
    {
     "data": {
      "image/png": "[encoded data removed]",
      "text/plain": [
       "<Figure size 864x576 with 1 Axes>"
      ]
     },
     "metadata": {
      "needs_background": "light"
     },
     "output_type": "display_data"
    }
   ],
   "source": [
    "mu = n_bkg\n",
    "x = np.arange(poisson.ppf(0.001, mu),\n",
    "              poisson.ppf(0.999, mu))\n",
    "fig,ax=plt.subplots(figsize=(12,8))\n",
    "plt.stairs(poisson.pmf(x, mu)[:-1],x)\n",
    "plt.title('Expected background distribution (Nqcd = {n_bkg})')\n",
    "plt.xlabel('Events')\n",
    "plt.ylabel('Probability')\n",
    "plt.show()"
   ]
  },
  {
   "cell_type": "code",
   "execution_count": 149,
   "id": "fd8a3397-f7f6-41e8-a1da-eda1ec870159",
   "metadata": {},
   "outputs": [
    {
     "name": "stdout",
     "output_type": "stream",
     "text": [
      "The probability of finding 12828 events in the background is 2.690e-03, which is a signficance of 2.783.\n"
     ]
    }
   ],
   "source": [
    "p = poisson.sf(n_bkg+n_signal,mu)\n",
    "sig = abs(norm.ppf(p))\n",
    "print(f'The probability of finding {n_bkg+n_signal:0.0f} events in the background is {p:0.3e}, which is a signficance of {sig:0.3f}.')"
   ]
  },
  {
   "cell_type": "code",
   "execution_count": 77,
   "id": "335efaaf-814c-47f0-b222-2cc2caa783d7",
   "metadata": {},
   "outputs": [
    {
     "data": {
      "image/png": "[encoded data removed]",
      "text/plain": [
       "<Figure size 1440x576 with 2 Axes>"
      ]
     },
     "metadata": {
      "needs_background": "light"
     },
     "output_type": "display_data"
    }
   ],
   "source": [
    "fig, ax = plt.subplots(1,2, figsize=(20,8),sharey=True)\n",
    "ax[0].hist(stats.poisson())\n",
    "ax[1].hist(signal['mass'])\n",
    "plt.show()"
   ]
  }
 ],
 "metadata": {
  "kernelspec": {
   "display_name": "Python 3",
   "language": "python",
   "name": "python3"
  },
  "language_info": {
   "codemirror_mode": {
    "name": "ipython",
    "version": 3
   },
   "file_extension": ".py",
   "mimetype": "text/x-python",
   "name": "python",
   "nbconvert_exporter": "python",
   "pygments_lexer": "ipython3",
   "version": "3.8.8"
  }
 },
 "nbformat": 4,
 "nbformat_minor": 5
}
